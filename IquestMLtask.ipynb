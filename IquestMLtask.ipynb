{
  "nbformat": 4,
  "nbformat_minor": 0,
  "metadata": {
    "colab": {
      "name": "IquestMLtask.ipynb",
      "provenance": [],
      "collapsed_sections": []
    },
    "kernelspec": {
      "name": "python3",
      "display_name": "Python 3"
    },
    "language_info": {
      "name": "python"
    }
  },
  "cells": [
    {
      "cell_type": "markdown",
      "source": [
        "# Linear Regression VS Decision Tree Regression\n",
        "In this notebook, we will analyze the difference between Linear Regression and Decision Tree Regression on a sample dataset and which algorithm will work better."
      ],
      "metadata": {
        "id": "vgCuwuIDRww9"
      }
    },
    {
      "cell_type": "code",
      "execution_count": 496,
      "metadata": {
        "id": "xeM57QE0u-yu"
      },
      "outputs": [],
      "source": [
        "# import modules\n",
        "import pandas as pd\n",
        "from sklearn.linear_model import LinearRegression \n",
        "import numpy as np\n",
        "%matplotlib inline"
      ]
    },
    {
      "cell_type": "code",
      "source": [
        "# read the dataset\n",
        "bmidata = pd.read_csv('https://raw.githubusercontent.com/dnimm/IquestMLtask/main/bmi_and_life_expectancy.csv')\n",
        "\n",
        "bmidata.head()\n"
      ],
      "metadata": {
        "colab": {
          "base_uri": "https://localhost:8080/",
          "height": 206
        },
        "id": "vHBEPvy-G0h3",
        "outputId": "b16c6505-8010-4418-c1ea-de7a1ff2712b"
      },
      "execution_count": 497,
      "outputs": [
        {
          "output_type": "execute_result",
          "data": {
            "text/html": [
              "\n",
              "  <div id=\"df-eae8ff54-87c9-4913-b197-c28fa280a34e\">\n",
              "    <div class=\"colab-df-container\">\n",
              "      <div>\n",
              "<style scoped>\n",
              "    .dataframe tbody tr th:only-of-type {\n",
              "        vertical-align: middle;\n",
              "    }\n",
              "\n",
              "    .dataframe tbody tr th {\n",
              "        vertical-align: top;\n",
              "    }\n",
              "\n",
              "    .dataframe thead th {\n",
              "        text-align: right;\n",
              "    }\n",
              "</style>\n",
              "<table border=\"1\" class=\"dataframe\">\n",
              "  <thead>\n",
              "    <tr style=\"text-align: right;\">\n",
              "      <th></th>\n",
              "      <th>Country</th>\n",
              "      <th>Life expectancy</th>\n",
              "      <th>BMI</th>\n",
              "    </tr>\n",
              "  </thead>\n",
              "  <tbody>\n",
              "    <tr>\n",
              "      <th>0</th>\n",
              "      <td>Afghanistan</td>\n",
              "      <td>52.8</td>\n",
              "      <td>20.62058</td>\n",
              "    </tr>\n",
              "    <tr>\n",
              "      <th>1</th>\n",
              "      <td>Albania</td>\n",
              "      <td>76.8</td>\n",
              "      <td>26.44657</td>\n",
              "    </tr>\n",
              "    <tr>\n",
              "      <th>2</th>\n",
              "      <td>Algeria</td>\n",
              "      <td>75.5</td>\n",
              "      <td>24.59620</td>\n",
              "    </tr>\n",
              "    <tr>\n",
              "      <th>3</th>\n",
              "      <td>Andorra</td>\n",
              "      <td>84.6</td>\n",
              "      <td>27.63048</td>\n",
              "    </tr>\n",
              "    <tr>\n",
              "      <th>4</th>\n",
              "      <td>Angola</td>\n",
              "      <td>56.7</td>\n",
              "      <td>22.25083</td>\n",
              "    </tr>\n",
              "  </tbody>\n",
              "</table>\n",
              "</div>\n",
              "      <button class=\"colab-df-convert\" onclick=\"convertToInteractive('df-eae8ff54-87c9-4913-b197-c28fa280a34e')\"\n",
              "              title=\"Convert this dataframe to an interactive table.\"\n",
              "              style=\"display:none;\">\n",
              "        \n",
              "  <svg xmlns=\"http://www.w3.org/2000/svg\" height=\"24px\"viewBox=\"0 0 24 24\"\n",
              "       width=\"24px\">\n",
              "    <path d=\"M0 0h24v24H0V0z\" fill=\"none\"/>\n",
              "    <path d=\"M18.56 5.44l.94 2.06.94-2.06 2.06-.94-2.06-.94-.94-2.06-.94 2.06-2.06.94zm-11 1L8.5 8.5l.94-2.06 2.06-.94-2.06-.94L8.5 2.5l-.94 2.06-2.06.94zm10 10l.94 2.06.94-2.06 2.06-.94-2.06-.94-.94-2.06-.94 2.06-2.06.94z\"/><path d=\"M17.41 7.96l-1.37-1.37c-.4-.4-.92-.59-1.43-.59-.52 0-1.04.2-1.43.59L10.3 9.45l-7.72 7.72c-.78.78-.78 2.05 0 2.83L4 21.41c.39.39.9.59 1.41.59.51 0 1.02-.2 1.41-.59l7.78-7.78 2.81-2.81c.8-.78.8-2.07 0-2.86zM5.41 20L4 18.59l7.72-7.72 1.47 1.35L5.41 20z\"/>\n",
              "  </svg>\n",
              "      </button>\n",
              "      \n",
              "  <style>\n",
              "    .colab-df-container {\n",
              "      display:flex;\n",
              "      flex-wrap:wrap;\n",
              "      gap: 12px;\n",
              "    }\n",
              "\n",
              "    .colab-df-convert {\n",
              "      background-color: #E8F0FE;\n",
              "      border: none;\n",
              "      border-radius: 50%;\n",
              "      cursor: pointer;\n",
              "      display: none;\n",
              "      fill: #1967D2;\n",
              "      height: 32px;\n",
              "      padding: 0 0 0 0;\n",
              "      width: 32px;\n",
              "    }\n",
              "\n",
              "    .colab-df-convert:hover {\n",
              "      background-color: #E2EBFA;\n",
              "      box-shadow: 0px 1px 2px rgba(60, 64, 67, 0.3), 0px 1px 3px 1px rgba(60, 64, 67, 0.15);\n",
              "      fill: #174EA6;\n",
              "    }\n",
              "\n",
              "    [theme=dark] .colab-df-convert {\n",
              "      background-color: #3B4455;\n",
              "      fill: #D2E3FC;\n",
              "    }\n",
              "\n",
              "    [theme=dark] .colab-df-convert:hover {\n",
              "      background-color: #434B5C;\n",
              "      box-shadow: 0px 1px 3px 1px rgba(0, 0, 0, 0.15);\n",
              "      filter: drop-shadow(0px 1px 2px rgba(0, 0, 0, 0.3));\n",
              "      fill: #FFFFFF;\n",
              "    }\n",
              "  </style>\n",
              "\n",
              "      <script>\n",
              "        const buttonEl =\n",
              "          document.querySelector('#df-eae8ff54-87c9-4913-b197-c28fa280a34e button.colab-df-convert');\n",
              "        buttonEl.style.display =\n",
              "          google.colab.kernel.accessAllowed ? 'block' : 'none';\n",
              "\n",
              "        async function convertToInteractive(key) {\n",
              "          const element = document.querySelector('#df-eae8ff54-87c9-4913-b197-c28fa280a34e');\n",
              "          const dataTable =\n",
              "            await google.colab.kernel.invokeFunction('convertToInteractive',\n",
              "                                                     [key], {});\n",
              "          if (!dataTable) return;\n",
              "\n",
              "          const docLinkHtml = 'Like what you see? Visit the ' +\n",
              "            '<a target=\"_blank\" href=https://colab.research.google.com/notebooks/data_table.ipynb>data table notebook</a>'\n",
              "            + ' to learn more about interactive tables.';\n",
              "          element.innerHTML = '';\n",
              "          dataTable['output_type'] = 'display_data';\n",
              "          await google.colab.output.renderOutput(dataTable, element);\n",
              "          const docLink = document.createElement('div');\n",
              "          docLink.innerHTML = docLinkHtml;\n",
              "          element.appendChild(docLink);\n",
              "        }\n",
              "      </script>\n",
              "    </div>\n",
              "  </div>\n",
              "  "
            ],
            "text/plain": [
              "       Country  Life expectancy       BMI\n",
              "0  Afghanistan             52.8  20.62058\n",
              "1      Albania             76.8  26.44657\n",
              "2      Algeria             75.5  24.59620\n",
              "3      Andorra             84.6  27.63048\n",
              "4       Angola             56.7  22.25083"
            ]
          },
          "metadata": {},
          "execution_count": 497
        }
      ]
    },
    {
      "cell_type": "code",
      "source": [
        "# Plotting the data into a scatter plot\n",
        "bmidata.plot(x='BMI', y='Life expectancy', style='o')\n",
        "\n",
        "\n",
        "plt.title('Life Expectancy vs BMI')\n",
        "plt.xlabel('BMI value')\n",
        "plt.ylabel('Life expectancy (years)')\n",
        "plt.show()"
      ],
      "metadata": {
        "colab": {
          "base_uri": "https://localhost:8080/",
          "height": 295
        },
        "id": "zrezyhoUIgaQ",
        "outputId": "894449c0-d9a7-41b1-f592-0f03b71f322b"
      },
      "execution_count": 498,
      "outputs": [
        {
          "output_type": "display_data",
          "data": {
            "image/png": "[encoded data removed]",
            "text/plain": [
              "<Figure size 432x288 with 1 Axes>"
            ]
          },
          "metadata": {
            "needs_background": "light"
          }
        }
      ]
    },
    {
      "cell_type": "code",
      "source": [
        "X = bmidata[['BMI']]\n",
        "y = bmidata['Life expectancy']"
      ],
      "metadata": {
        "id": "qMHpRw_mQRH2"
      },
      "execution_count": 499,
      "outputs": []
    },
    {
      "cell_type": "code",
      "source": [
        "# importing train_test_split from sklearn\n",
        "from sklearn.model_selection import train_test_split\n",
        "# split the dataset into testing and training\n",
        "X_train, X_test, y_train, y_test = train_test_split(X, y, test_size=0.2, random_state=0)"
      ],
      "metadata": {
        "id": "rLjeQiyTMSgZ"
      },
      "execution_count": 500,
      "outputs": []
    },
    {
      "cell_type": "markdown",
      "source": [
        "# Linear Regression"
      ],
      "metadata": {
        "id": "xxdRzryIjtfn"
      }
    },
    {
      "cell_type": "code",
      "source": [
        "regressor = LinearRegression()\n",
        "# training the algorithm\n",
        "regressor.fit(X_train, y_train) "
      ],
      "metadata": {
        "colab": {
          "base_uri": "https://localhost:8080/"
        },
        "id": "sOUG_mgbMZhX",
        "outputId": "a471157b-9536-481a-c3bf-fa72922d08d3"
      },
      "execution_count": 501,
      "outputs": [
        {
          "output_type": "execute_result",
          "data": {
            "text/plain": [
              "LinearRegression()"
            ]
          },
          "metadata": {},
          "execution_count": 501
        }
      ]
    },
    {
      "cell_type": "code",
      "source": [
        "# To retrieve the intercept\n",
        "print(regressor.intercept_)"
      ],
      "metadata": {
        "colab": {
          "base_uri": "https://localhost:8080/"
        },
        "id": "HIIg7gOARFXc",
        "outputId": "683ea6bc-255f-4225-a172-63474a660ddd"
      },
      "execution_count": 502,
      "outputs": [
        {
          "output_type": "stream",
          "name": "stdout",
          "text": [
            "2.013592357356714\n"
          ]
        }
      ]
    },
    {
      "cell_type": "code",
      "source": [
        "# For retrieving the slope\n",
        "print(regressor.coef_)"
      ],
      "metadata": {
        "colab": {
          "base_uri": "https://localhost:8080/"
        },
        "id": "KI88S72lRKXf",
        "outputId": "3171dc70-21bd-4ff8-a9ad-690a36606d6a"
      },
      "execution_count": 503,
      "outputs": [
        {
          "output_type": "stream",
          "name": "stdout",
          "text": [
            "[2.73059008]\n"
          ]
        }
      ]
    },
    {
      "cell_type": "code",
      "source": [
        "y_pred = regressor.predict(X_test)\n",
        "\n"
      ],
      "metadata": {
        "id": "LJeyp5e_RV4O"
      },
      "execution_count": 504,
      "outputs": []
    },
    {
      "cell_type": "code",
      "source": [
        "df = pd.DataFrame({'Actual': y_test, 'Predicted': y_pred})\n",
        "df"
      ],
      "metadata": {
        "colab": {
          "base_uri": "https://localhost:8080/",
          "height": 1000
        },
        "id": "q_M72MPvRZDn",
        "outputId": "05f1eb28-e718-41d2-8e7a-e8bc09196a6c"
      },
      "execution_count": 505,
      "outputs": [
        {
          "output_type": "execute_result",
          "data": {
            "text/html": [
              "\n",
              "  <div id=\"df-d7d26d76-ac77-4141-88a3-76b738c66b53\">\n",
              "    <div class=\"colab-df-container\">\n",
              "      <div>\n",
              "<style scoped>\n",
              "    .dataframe tbody tr th:only-of-type {\n",
              "        vertical-align: middle;\n",
              "    }\n",
              "\n",
              "    .dataframe tbody tr th {\n",
              "        vertical-align: top;\n",
              "    }\n",
              "\n",
              "    .dataframe thead th {\n",
              "        text-align: right;\n",
              "    }\n",
              "</style>\n",
              "<table border=\"1\" class=\"dataframe\">\n",
              "  <thead>\n",
              "    <tr style=\"text-align: right;\">\n",
              "      <th></th>\n",
              "      <th>Actual</th>\n",
              "      <th>Predicted</th>\n",
              "    </tr>\n",
              "  </thead>\n",
              "  <tbody>\n",
              "    <tr>\n",
              "      <th>160</th>\n",
              "      <td>74.10</td>\n",
              "      <td>59.127434</td>\n",
              "    </tr>\n",
              "    <tr>\n",
              "      <th>149</th>\n",
              "      <td>77.80</td>\n",
              "      <td>74.930478</td>\n",
              "    </tr>\n",
              "    <tr>\n",
              "      <th>73</th>\n",
              "      <td>80.60</td>\n",
              "      <td>76.098624</td>\n",
              "    </tr>\n",
              "    <tr>\n",
              "      <th>7</th>\n",
              "      <td>80.40</td>\n",
              "      <td>74.285239</td>\n",
              "    </tr>\n",
              "    <tr>\n",
              "      <th>100</th>\n",
              "      <td>73.30</td>\n",
              "      <td>72.003586</td>\n",
              "    </tr>\n",
              "    <tr>\n",
              "      <th>54</th>\n",
              "      <td>71.80</td>\n",
              "      <td>71.778585</td>\n",
              "    </tr>\n",
              "    <tr>\n",
              "      <th>125</th>\n",
              "      <td>63.50</td>\n",
              "      <td>61.888415</td>\n",
              "    </tr>\n",
              "    <tr>\n",
              "      <th>44</th>\n",
              "      <td>73.70</td>\n",
              "      <td>74.012453</td>\n",
              "    </tr>\n",
              "    <tr>\n",
              "      <th>26</th>\n",
              "      <td>80.80</td>\n",
              "      <td>76.974024</td>\n",
              "    </tr>\n",
              "    <tr>\n",
              "      <th>90</th>\n",
              "      <td>78.50</td>\n",
              "      <td>65.417648</td>\n",
              "    </tr>\n",
              "    <tr>\n",
              "      <th>136</th>\n",
              "      <td>70.20</td>\n",
              "      <td>71.640554</td>\n",
              "    </tr>\n",
              "    <tr>\n",
              "      <th>94</th>\n",
              "      <td>67.90</td>\n",
              "      <td>63.787595</td>\n",
              "    </tr>\n",
              "    <tr>\n",
              "      <th>131</th>\n",
              "      <td>52.60</td>\n",
              "      <td>62.002390</td>\n",
              "    </tr>\n",
              "    <tr>\n",
              "      <th>80</th>\n",
              "      <td>72.40</td>\n",
              "      <td>74.256623</td>\n",
              "    </tr>\n",
              "    <tr>\n",
              "      <th>62</th>\n",
              "      <td>53.60</td>\n",
              "      <td>61.112791</td>\n",
              "    </tr>\n",
              "    <tr>\n",
              "      <th>119</th>\n",
              "      <td>77.90</td>\n",
              "      <td>78.828859</td>\n",
              "    </tr>\n",
              "    <tr>\n",
              "      <th>37</th>\n",
              "      <td>76.20</td>\n",
              "      <td>74.637158</td>\n",
              "    </tr>\n",
              "    <tr>\n",
              "      <th>154</th>\n",
              "      <td>79.70</td>\n",
              "      <td>76.811254</td>\n",
              "    </tr>\n",
              "    <tr>\n",
              "      <th>101</th>\n",
              "      <td>54.00</td>\n",
              "      <td>61.910069</td>\n",
              "    </tr>\n",
              "    <tr>\n",
              "      <th>142</th>\n",
              "      <td>60.40</td>\n",
              "      <td>63.391578</td>\n",
              "    </tr>\n",
              "    <tr>\n",
              "      <th>51</th>\n",
              "      <td>75.11</td>\n",
              "      <td>86.300136</td>\n",
              "    </tr>\n",
              "    <tr>\n",
              "      <th>138</th>\n",
              "      <td>81.10</td>\n",
              "      <td>74.036428</td>\n",
              "    </tr>\n",
              "    <tr>\n",
              "      <th>33</th>\n",
              "      <td>57.50</td>\n",
              "      <td>56.262007</td>\n",
              "    </tr>\n",
              "    <tr>\n",
              "      <th>45</th>\n",
              "      <td>60.10</td>\n",
              "      <td>59.042212</td>\n",
              "    </tr>\n",
              "    <tr>\n",
              "      <th>146</th>\n",
              "      <td>70.30</td>\n",
              "      <td>86.649952</td>\n",
              "    </tr>\n",
              "    <tr>\n",
              "      <th>8</th>\n",
              "      <td>69.20</td>\n",
              "      <td>72.056423</td>\n",
              "    </tr>\n",
              "    <tr>\n",
              "      <th>150</th>\n",
              "      <td>67.20</td>\n",
              "      <td>70.955421</td>\n",
              "    </tr>\n",
              "    <tr>\n",
              "      <th>89</th>\n",
              "      <td>74.50</td>\n",
              "      <td>69.542969</td>\n",
              "    </tr>\n",
              "    <tr>\n",
              "      <th>92</th>\n",
              "      <td>80.70</td>\n",
              "      <td>77.606183</td>\n",
              "    </tr>\n",
              "    <tr>\n",
              "      <th>124</th>\n",
              "      <td>66.00</td>\n",
              "      <td>66.216127</td>\n",
              "    </tr>\n",
              "    <tr>\n",
              "      <th>63</th>\n",
              "      <td>65.00</td>\n",
              "      <td>66.686663</td>\n",
              "    </tr>\n",
              "    <tr>\n",
              "      <th>55</th>\n",
              "      <td>80.00</td>\n",
              "      <td>76.190318</td>\n",
              "    </tr>\n",
              "    <tr>\n",
              "      <th>93</th>\n",
              "      <td>65.30</td>\n",
              "      <td>82.220225</td>\n",
              "    </tr>\n",
              "  </tbody>\n",
              "</table>\n",
              "</div>\n",
              "      <button class=\"colab-df-convert\" onclick=\"convertToInteractive('df-d7d26d76-ac77-4141-88a3-76b738c66b53')\"\n",
              "              title=\"Convert this dataframe to an interactive table.\"\n",
              "              style=\"display:none;\">\n",
              "        \n",
              "  <svg xmlns=\"http://www.w3.org/2000/svg\" height=\"24px\"viewBox=\"0 0 24 24\"\n",
              "       width=\"24px\">\n",
              "    <path d=\"M0 0h24v24H0V0z\" fill=\"none\"/>\n",
              "    <path d=\"M18.56 5.44l.94 2.06.94-2.06 2.06-.94-2.06-.94-.94-2.06-.94 2.06-2.06.94zm-11 1L8.5 8.5l.94-2.06 2.06-.94-2.06-.94L8.5 2.5l-.94 2.06-2.06.94zm10 10l.94 2.06.94-2.06 2.06-.94-2.06-.94-.94-2.06-.94 2.06-2.06.94z\"/><path d=\"M17.41 7.96l-1.37-1.37c-.4-.4-.92-.59-1.43-.59-.52 0-1.04.2-1.43.59L10.3 9.45l-7.72 7.72c-.78.78-.78 2.05 0 2.83L4 21.41c.39.39.9.59 1.41.59.51 0 1.02-.2 1.41-.59l7.78-7.78 2.81-2.81c.8-.78.8-2.07 0-2.86zM5.41 20L4 18.59l7.72-7.72 1.47 1.35L5.41 20z\"/>\n",
              "  </svg>\n",
              "      </button>\n",
              "      \n",
              "  <style>\n",
              "    .colab-df-container {\n",
              "      display:flex;\n",
              "      flex-wrap:wrap;\n",
              "      gap: 12px;\n",
              "    }\n",
              "\n",
              "    .colab-df-convert {\n",
              "      background-color: #E8F0FE;\n",
              "      border: none;\n",
              "      border-radius: 50%;\n",
              "      cursor: pointer;\n",
              "      display: none;\n",
              "      fill: #1967D2;\n",
              "      height: 32px;\n",
              "      padding: 0 0 0 0;\n",
              "      width: 32px;\n",
              "    }\n",
              "\n",
              "    .colab-df-convert:hover {\n",
              "      background-color: #E2EBFA;\n",
              "      box-shadow: 0px 1px 2px rgba(60, 64, 67, 0.3), 0px 1px 3px 1px rgba(60, 64, 67, 0.15);\n",
              "      fill: #174EA6;\n",
              "    }\n",
              "\n",
              "    [theme=dark] .colab-df-convert {\n",
              "      background-color: #3B4455;\n",
              "      fill: #D2E3FC;\n",
              "    }\n",
              "\n",
              "    [theme=dark] .colab-df-convert:hover {\n",
              "      background-color: #434B5C;\n",
              "      box-shadow: 0px 1px 3px 1px rgba(0, 0, 0, 0.15);\n",
              "      filter: drop-shadow(0px 1px 2px rgba(0, 0, 0, 0.3));\n",
              "      fill: #FFFFFF;\n",
              "    }\n",
              "  </style>\n",
              "\n",
              "      <script>\n",
              "        const buttonEl =\n",
              "          document.querySelector('#df-d7d26d76-ac77-4141-88a3-76b738c66b53 button.colab-df-convert');\n",
              "        buttonEl.style.display =\n",
              "          google.colab.kernel.accessAllowed ? 'block' : 'none';\n",
              "\n",
              "        async function convertToInteractive(key) {\n",
              "          const element = document.querySelector('#df-d7d26d76-ac77-4141-88a3-76b738c66b53');\n",
              "          const dataTable =\n",
              "            await google.colab.kernel.invokeFunction('convertToInteractive',\n",
              "                                                     [key], {});\n",
              "          if (!dataTable) return;\n",
              "\n",
              "          const docLinkHtml = 'Like what you see? Visit the ' +\n",
              "            '<a target=\"_blank\" href=https://colab.research.google.com/notebooks/data_table.ipynb>data table notebook</a>'\n",
              "            + ' to learn more about interactive tables.';\n",
              "          element.innerHTML = '';\n",
              "          dataTable['output_type'] = 'display_data';\n",
              "          await google.colab.output.renderOutput(dataTable, element);\n",
              "          const docLink = document.createElement('div');\n",
              "          docLink.innerHTML = docLinkHtml;\n",
              "          element.appendChild(docLink);\n",
              "        }\n",
              "      </script>\n",
              "    </div>\n",
              "  </div>\n",
              "  "
            ],
            "text/plain": [
              "     Actual  Predicted\n",
              "160   74.10  59.127434\n",
              "149   77.80  74.930478\n",
              "73    80.60  76.098624\n",
              "7     80.40  74.285239\n",
              "100   73.30  72.003586\n",
              "54    71.80  71.778585\n",
              "125   63.50  61.888415\n",
              "44    73.70  74.012453\n",
              "26    80.80  76.974024\n",
              "90    78.50  65.417648\n",
              "136   70.20  71.640554\n",
              "94    67.90  63.787595\n",
              "131   52.60  62.002390\n",
              "80    72.40  74.256623\n",
              "62    53.60  61.112791\n",
              "119   77.90  78.828859\n",
              "37    76.20  74.637158\n",
              "154   79.70  76.811254\n",
              "101   54.00  61.910069\n",
              "142   60.40  63.391578\n",
              "51    75.11  86.300136\n",
              "138   81.10  74.036428\n",
              "33    57.50  56.262007\n",
              "45    60.10  59.042212\n",
              "146   70.30  86.649952\n",
              "8     69.20  72.056423\n",
              "150   67.20  70.955421\n",
              "89    74.50  69.542969\n",
              "92    80.70  77.606183\n",
              "124   66.00  66.216127\n",
              "63    65.00  66.686663\n",
              "55    80.00  76.190318\n",
              "93    65.30  82.220225"
            ]
          },
          "metadata": {},
          "execution_count": 505
        }
      ]
    },
    {
      "cell_type": "code",
      "source": [
        "from sklearn import metrics\n",
        "print('Mean Absolute Error:', metrics.mean_absolute_error(y_test, y_pred))\n",
        "print('Mean Squared Error:', metrics.mean_squared_error(y_test, y_pred))\n",
        "print('Root Mean Squared Error:', np.sqrt(metrics.mean_squared_error(y_test, y_pred)))\n"
      ],
      "metadata": {
        "colab": {
          "base_uri": "https://localhost:8080/"
        },
        "id": "ehlkdJjRRk2m",
        "outputId": "cc72a095-00b1-44f0-ee65-4fbe2de87378"
      },
      "execution_count": 506,
      "outputs": [
        {
          "output_type": "stream",
          "name": "stdout",
          "text": [
            "Mean Absolute Error: 4.951821428518988\n",
            "Mean Squared Error: 46.54144257320054\n",
            "Root Mean Squared Error: 6.822128888638835\n"
          ]
        }
      ]
    },
    {
      "cell_type": "code",
      "source": [
        "plt.scatter(X_train, y_train, color = \"red\")\n",
        "plt.plot(X_train, regressor.predict(X_train), color = \"green\")\n",
        "plt.title('Life Expectancy vs BMI (Training Set)')\n",
        "plt.xlabel('BMI value')\n",
        "plt.ylabel('Life Expectancy (years)')\n",
        "plt.show()"
      ],
      "metadata": {
        "colab": {
          "base_uri": "https://localhost:8080/",
          "height": 295
        },
        "id": "uEEW8Z3wW3DI",
        "outputId": "3e4d764b-04d1-479f-f447-eb8a3325a5a6"
      },
      "execution_count": 507,
      "outputs": [
        {
          "output_type": "display_data",
          "data": {
            "image/png": "[encoded data removed]",
            "text/plain": [
              "<Figure size 432x288 with 1 Axes>"
            ]
          },
          "metadata": {
            "needs_background": "light"
          }
        }
      ]
    },
    {
      "cell_type": "code",
      "source": [
        "plt.scatter(X_test, y_test, color = \"red\")\n",
        "plt.plot(X_train, regressor.predict(X_train), color = \"green\")\n",
        "plt.title('Life Expectancy vs BMI (Testing Set)')\n",
        "plt.xlabel('BMI value')\n",
        "plt.ylabel('Life Expectancy (years)')\n",
        "plt.show()\n"
      ],
      "metadata": {
        "colab": {
          "base_uri": "https://localhost:8080/",
          "height": 295
        },
        "id": "L9C4rZ_gXXgK",
        "outputId": "2f64595b-ae62-4404-f445-7afda1a4a9f1"
      },
      "execution_count": 508,
      "outputs": [
        {
          "output_type": "display_data",
          "data": {
            "image/png": "[encoded data removed]",
            "text/plain": [
              "<Figure size 432x288 with 1 Axes>"
            ]
          },
          "metadata": {
            "needs_background": "light"
          }
        }
      ]
    },
    {
      "cell_type": "markdown",
      "source": [
        "# Decision Tree Regression\n"
      ],
      "metadata": {
        "id": "nyl-HptkVqte"
      }
    },
    {
      "cell_type": "code",
      "source": [
        "# import the regressor\n",
        "from sklearn.tree import DecisionTreeRegressor\n",
        "\n",
        "# create a regressor object\n",
        "r = DecisionTreeRegressor(random_state = 0)\n",
        "\n",
        "# fit the regressor with X and Y data\n",
        "r.fit(X_train.values, y_train)\n",
        "y_p = model.predict(X_test)\n",
        "# arange for creating a range of values\n",
        "# from min value of X to max value of X\n",
        "# with a difference of 0.01 between two\n",
        "# consecutive values\n",
        "\n",
        "X_grid = np.arange(min(X_train.values), max(X_train.values), 0.01)\n",
        "\n",
        "# reshape for reshaping the data into\n",
        "# a len(X_grid)*1 array, i.e. to make\n",
        "# a column out of the X_grid values\n",
        "X_grid = X_grid.reshape((len(X_grid), 1))\n",
        "\n",
        "# scatter plot for original data\n",
        "plt.scatter(X_train, y_train, color = 'red')\n",
        "\n",
        "# plot predicted data\n",
        "plt.plot(X_grid, r.predict(X_grid), color = 'blue')\n",
        "\n",
        "# specify title\n",
        "plt.title('Life Expectancy vs BMI  (Decision Tree Regression)')\n",
        "\n",
        "# specify X axis label\n",
        "plt.xlabel('BMI value')\n",
        "\n",
        "# specify Y axis label\n",
        "plt.ylabel('Life Expectancy(years)')\n",
        "\n",
        "# show the plot\n",
        "plt.show()\n",
        "\n",
        "\n",
        "# Compares the actual values versus the values predicted by the model\n",
        "d = pd.DataFrame({'Actual': y_test, 'Predicted': y_p})\n",
        "print(d)\n",
        "print('Mean Absolute Error:', metrics.mean_absolute_error(y_test, y_p))\n",
        "print('Mean Squared Error:', metrics.mean_squared_error(y_test, y_p))\n",
        "print('Root Mean Squared Error:', np.sqrt(metrics.mean_squared_error(y_test, y_p)))\n"
      ],
      "metadata": {
        "colab": {
          "base_uri": "https://localhost:8080/",
          "height": 937
        },
        "id": "JcBbwTkNWbMV",
        "outputId": "1197efcc-ff96-4ad4-96f2-c4c20ea7e830"
      },
      "execution_count": 509,
      "outputs": [
        {
          "output_type": "display_data",
          "data": {
            "image/png": "[encoded data removed]",
            "text/plain": [
              "<Figure size 432x288 with 1 Axes>"
            ]
          },
          "metadata": {
            "needs_background": "light"
          }
        },
        {
          "output_type": "stream",
          "name": "stdout",
          "text": [
            "     Actual  Predicted\n",
            "160   74.10  59.839289\n",
            "149   77.80  74.549117\n",
            "73    80.60  75.636454\n",
            "7     80.40  73.948514\n",
            "100   73.30  71.824700\n",
            "54    71.80  71.615264\n",
            "125   63.50  62.409272\n",
            "44    73.70  73.694599\n",
            "26    80.80  76.451295\n",
            "90    78.50  65.694362\n",
            "136   70.20  71.486782\n",
            "94    67.90  64.177072\n",
            "131   52.60  62.515363\n",
            "80    72.40  73.921877\n",
            "62    53.60  61.687304\n",
            "119   77.90  78.177818\n",
            "37    76.20  74.276088\n",
            "154   79.70  76.299785\n",
            "101   54.00  62.429428\n",
            "142   60.40  63.808450\n",
            "51    75.11  85.132249\n",
            "138   81.10  73.716915\n",
            "33    57.50  57.172086\n",
            "45    60.10  59.759963\n",
            "146   70.30  85.457866\n",
            "8     69.20  71.873882\n",
            "150   67.20  70.849045\n",
            "89    74.50  69.534303\n",
            "92    80.70  77.039723\n",
            "124   66.00  66.437604\n",
            "63    65.00  66.875589\n",
            "55    80.00  75.721804\n",
            "93    65.30  81.334577\n",
            "Mean Absolute Error: 4.897491788945177\n",
            "Mean Squared Error: 44.504084708066024\n",
            "Root Mean Squared Error: 6.671138186851328\n"
          ]
        }
      ]
    },
    {
      "cell_type": "markdown",
      "source": [
        "# Which Algorithm is the best?\n",
        "Decision Tree Regression is a better algorithm than the Linear Regression algorithm because the mean absolute error, mean square error, and the root mean squared error are all lower in value than the evaluation values in the linear regression algorithm. All the metrics above measures the average model prediction error ranging between 0 to infinity with negatively oriented scores which means lower the evaluation value better is the model."
      ],
      "metadata": {
        "id": "UOiO36gFSv0-"
      }
    }
  ]
}